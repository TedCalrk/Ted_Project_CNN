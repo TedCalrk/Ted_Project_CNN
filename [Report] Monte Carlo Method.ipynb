{
 "cells": [
  {
   "cell_type": "code",
   "execution_count": 1,
   "metadata": {},
   "outputs": [],
   "source": [
    "import random\n",
    "import math\n",
    "import numpy as np\n",
    "import matplotlib.pyplot as plt\n",
    "import sys\n",
    "import scipy.constants as sc"
   ]
  },
  {
   "cell_type": "code",
   "execution_count": 152,
   "metadata": {},
   "outputs": [],
   "source": [
    "def printProgress (iteration, total, prefix = '', suffix = '', decimals = 1, barLength = 100):\n",
    "    formatStr = \"{0:.\" + str(decimals) + \"f}\"\n",
    "    percent = formatStr.format(100 * (iteration / float(total)))\n",
    "    filledLength = int(round(barLength * iteration / float(total)))\n",
    "    bar = '#' * filledLength + '-' * (barLength - filledLength)\n",
    "    sys.stdout.write('\\r%s |%s| %s%s %s' % (prefix, bar, percent, '%', suffix)),\n",
    "    if iteration == total:\n",
    "        sys.stdout.write('\\n')\n",
    "    sys.stdout.flush()"
   ]
  },
  {
   "cell_type": "code",
   "execution_count": 171,
   "metadata": {},
   "outputs": [
    {
     "name": "stdout",
     "output_type": "stream",
     "text": [
      "Function done\n"
     ]
    }
   ],
   "source": [
    "def _dis(alpha):\n",
    "    r = random.uniform(0,2) # r = 0 ~ +2.0\n",
    "    z = r - 1 # z = -1.0 ~ +1.0\n",
    "    _dis = alpha * z # dis = -alpha ~ +alpha\n",
    "    return _dis\n",
    "\n",
    "def _E(n):\n",
    "    const = 1\n",
    "    _E = const*n**2\n",
    "    return _E\n",
    "\n",
    "def _delta_E(x_f,x_i):\n",
    "    _delta_E = _E(x_f) - _E(x_i)\n",
    "    return _delta_E\n",
    "\n",
    "print(\"Function done\")"
   ]
  },
  {
   "cell_type": "code",
   "execution_count": 189,
   "metadata": {},
   "outputs": [
    {
     "name": "stdout",
     "output_type": "stream",
     "text": [
      " |##################################################| 99.9% Sampling ready\n"
     ]
    }
   ],
   "source": [
    "sample_rate = 1000\n",
    "A = [0]*sample_rate\n",
    "sight_range = 5\n",
    "sample_interval = (sight_range*2)/sample_rate\n",
    "\n",
    "for i in range(sample_rate) :\n",
    "    A[i] = -sight_range + i*sample_interval\n",
    "    printProgress(i, sample_rate, barLength = 50)\n",
    "    \n",
    "print(\"Sampling ready\")"
   ]
  },
  {
   "cell_type": "code",
   "execution_count": 190,
   "metadata": {
    "scrolled": true
   },
   "outputs": [
    {
     "name": "stdout",
     "output_type": "stream",
     "text": [
      " |##################################################| 100.0% \n",
      "E_avg = 0.5019613283635393\n",
      "Process done\n"
     ]
    }
   ],
   "source": [
    "epoch = 1000000\n",
    "alpha = 10\n",
    "x = [0]*(epoch +1)\n",
    "E = 0\n",
    "k_b_dot_T = 1\n",
    "N = [0]*sample_rate\n",
    "\n",
    "for i in range(epoch):\n",
    "    x[i+1] = x[i] + _dis(alpha)\n",
    "    delta_E = _delta_E(x[i+1],x[i])\n",
    "    if delta_E <= 0 :\n",
    "        x[i+1] = x[i+1]\n",
    "    if delta_E > 0 :\n",
    "        rand = random.uniform(0,1)\n",
    "        if rand <= math.exp(-delta_E/(k_b_dot_T)) :\n",
    "            x[i+1] = x[i+1]\n",
    "        if rand > math.exp(-delta_E/(k_b_dot_T)) :\n",
    "            x[i+1] = x[i]\n",
    "    E_avg += _E(x[i+1])/epoch\n",
    "    for j in range(sample_rate) :\n",
    "        if x[i+1] > (A[j] - sample_interval/2) :\n",
    "            if x[i+1] <= (A[j] + sample_interval/2) :\n",
    "                N[j] = N[j] + 1\n",
    "                break\n",
    "    printProgress(i, epoch, barLength = 50)\n",
    "\n",
    "print()\n",
    "print(\"E_avg =\", E_avg)\n",
    "print(\"Process done\")"
   ]
  },
  {
   "cell_type": "code",
   "execution_count": 191,
   "metadata": {},
   "outputs": [
    {
     "data": {
      "image/png": "[encoded data removed]",
      "text/plain": [
       "<Figure size 432x288 with 1 Axes>"
      ]
     },
     "metadata": {
      "needs_background": "light"
     },
     "output_type": "display_data"
    },
    {
     "name": "stdout",
     "output_type": "stream",
     "text": [
      "Plot done\n"
     ]
    }
   ],
   "source": [
    "plt.plot(A,N)\n",
    "plt.show()\n",
    "print(\"Plot done\")"
   ]
  },
  {
   "cell_type": "code",
   "execution_count": null,
   "metadata": {},
   "outputs": [],
   "source": []
  }
 ],
 "metadata": {
  "kernelspec": {
   "display_name": "Python 3",
   "language": "python",
   "name": "python3"
  },
  "language_info": {
   "codemirror_mode": {
    "name": "ipython",
    "version": 3
   },
   "file_extension": ".py",
   "mimetype": "text/x-python",
   "name": "python",
   "nbconvert_exporter": "python",
   "pygments_lexer": "ipython3",
   "version": "3.7.3"
  }
 },
 "nbformat": 4,
 "nbformat_minor": 2
}
